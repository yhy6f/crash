{
 "cells": [
  {
   "cell_type": "code",
   "execution_count": 3,
   "metadata": {
    "collapsed": true
   },
   "outputs": [],
   "source": [
    "import agate"
   ]
  },
  {
   "cell_type": "code",
   "execution_count": 4,
   "metadata": {
    "collapsed": true
   },
   "outputs": [],
   "source": [
    "crashes2015 = agate.Table.from_csv('crashes2015.csv')"
   ]
  },
  {
   "cell_type": "code",
   "execution_count": 5,
   "metadata": {
    "collapsed": true
   },
   "outputs": [],
   "source": [
    "\n",
    "persons2015 = agate.Table.from_csv('persons2015.csv')"
   ]
  },
  {
   "cell_type": "code",
   "execution_count": 6,
   "metadata": {
    "collapsed": true
   },
   "outputs": [],
   "source": [
    "\n",
    "vehicles2015 = agate.Table.from_csv('vehicles2015.csv')"
   ]
  },
  {
   "cell_type": "code",
   "execution_count": 7,
   "metadata": {
    "collapsed": false
   },
   "outputs": [],
   "source": [
    "joined_crash_person=crashes2015.join(persons2015, 'CrashId', 'CrashId', inner=True)"
   ]
  },
  {
   "cell_type": "code",
   "execution_count": 8,
   "metadata": {
    "collapsed": true
   },
   "outputs": [],
   "source": [
    "joined_all = joined_crash_person.join(vehicles2015, 'CrashId', 'CrashId', inner = True)"
   ]
  },
  {
   "cell_type": "code",
   "execution_count": 9,
   "metadata": {
    "collapsed": false
   },
   "outputs": [
    {
     "name": "stdout",
     "output_type": "stream",
     "text": [
      "|------------------------------+---------------|\n",
      "|  column_names                | column_types  |\n",
      "|------------------------------+---------------|\n",
      "|  CrashId                     | Number        |\n",
      "|  AgencyOri                   | Text          |\n",
      "|  AgencyCaseNumber            | Number        |\n",
      "|  CrashType                   | Number        |\n",
      "|  CrashDate                   | DateTime      |\n",
      "|  CrashDateUnk                | Text          |\n",
      "|  InvestigationDate           | DateTime      |\n",
      "|  ResponseMinuites            | Number        |\n",
      "|  ResponseTimeUnk             | Text          |\n",
      "|  NumberInjured               | Number        |\n",
      "|  NumberMinorInjuries         | Number        |\n",
      "|  NumberDisablingInjuries     | Number        |\n",
      "|  NumberKilled                | Number        |\n",
      "|  County                      | Number        |\n",
      "|  Municipality                | Number        |\n",
      "|  BeatZone                    | Text          |\n",
      "|  TroopDistrict               | Text          |\n",
      "|  OnOffRoadway                | Number        |\n",
      "|  RoadMaintainedBy            | Text          |\n",
      "|  HighwayClass                | Text          |\n",
      "|  RouteDesignater             | Text          |\n",
      "|  TrafficwayType              | Text          |\n",
      "|  LogPoint                    | Number        |\n",
      "|  LandedLongitude             | Number        |\n",
      "|  LandedLattitude             | Number        |\n",
      "|  OnLocHighway                | Text          |\n",
      "|  OnLocStreet                 | Text          |\n",
      "|  OnLocDirection              | Text          |\n",
      "|  OnLocSpeedLimit             | Text          |\n",
      "|  OnLocDistanceFromFeet       | Number        |\n",
      "|  OnLocDistanceFromMiles      | Number        |\n",
      "|  IntersectionType            | Text          |\n",
      "|  IntersectionLocation        | Text          |\n",
      "|  AtLocStreet                 | Text          |\n",
      "|  IntersectionDirection       | Text          |\n",
      "|  AtLocationSpeedLimit        | Text          |\n",
      "|  RoadAlignment               | Text          |\n",
      "|  RoadProfile                 | Text          |\n",
      "|  RoadSurface                 | Text          |\n",
      "|  LightCondition              | Text          |\n",
      "|  NumberVehicles              | Number        |\n",
      "|  TwoVehicleAnalysis          | Number        |\n",
      "|  InvestigatedAtScene         | Text          |\n",
      "|  LeftTheScene                | Boolean       |\n",
      "|  WeatherCondition1           | Text          |\n",
      "|  WeatherCondition2           | Number        |\n",
      "|  WeatherCondition3           | Number        |\n",
      "|  RoadCondition1              | Text          |\n",
      "|  RoadCondition2              | Number        |\n",
      "|  PersonId                    | Text          |\n",
      "|  VehicleId                   | Text          |\n",
      "|  PersonInvolvementCode       | Number        |\n",
      "|  Sex                         | Text          |\n",
      "|  DOB                         | Date          |\n",
      "|  PersonalInjuryLevel         | Text          |\n",
      "|  SeatLocationCd              | Text          |\n",
      "|  TransportedInd              | Text          |\n",
      "|  EjectionInd                 | Text          |\n",
      "|  AirbagCd                    | Text          |\n",
      "|  AlcoholUseInd               | Text          |\n",
      "|  PedestrianLocationCd        | Number        |\n",
      "|  PedestrianType              | Text          |\n",
      "|  PedestrianSchoolInfoInd     | Text          |\n",
      "|  AgeAtAccident               | Number        |\n",
      "|  ContribCircCd1              | Text          |\n",
      "|  ContribCircCd2              | Number        |\n",
      "|  ContribCircCd3              | Number        |\n",
      "|  ContribCircCd4              | Number        |\n",
      "|  ContribCircCd5              | Number        |\n",
      "|  ContribCircCd6              | Boolean       |\n",
      "|  ContribCircCd7              | Boolean       |\n",
      "|  ContribCircCd8              | Boolean       |\n",
      "|  ContribCircCd9              | Boolean       |\n",
      "|  ContribCircCd10             | Boolean       |\n",
      "|  ContribCircCd11             | Boolean       |\n",
      "|  ContribCircCd12             | Boolean       |\n",
      "|  DistractionCd1              | Number        |\n",
      "|  DistractionCd2              | Number        |\n",
      "|  DistractionCd3              | Number        |\n",
      "|  DistractionCd4              | Boolean       |\n",
      "|  PedestrianActionCd1         | Text          |\n",
      "|  PedestrianActionCd2         | Text          |\n",
      "|  PedestrianActionCd3         | Text          |\n",
      "|  PedestrianActionCd4         | Number        |\n",
      "|  PedestrianActionCd5         | Boolean       |\n",
      "|  SafetyDeviceCd1             | Text          |\n",
      "|  SafetyDeviceCd2             | Boolean       |\n",
      "|  VehicleId2                  | Text          |\n",
      "|  VehicleLicenseState         | Text          |\n",
      "|  VehicleLicenseYear          | Text          |\n",
      "|  VehicleYear                 | Text          |\n",
      "|  VehicleMake                 | Text          |\n",
      "|  VehicleModel                | Text          |\n",
      "|  VehicleColorCd1             | Text          |\n",
      "|  VehiclecolorCd2             | Text          |\n",
      "|  VehicleUsageTypeCd          | Text          |\n",
      "|  NumberOfOccupants           | Number        |\n",
      "|  VehicleBodyTypeCd           | Text          |\n",
      "|  VehicleBusTypeCd            | Text          |\n",
      "|  MCATVNumberOfWheels         | Number        |\n",
      "|  OtherVehicleTypeCd          | Number        |\n",
      "|  CVECargoBodyTypeCd          | Text          |\n",
      "|  VehiclePullingOtherUnitCd   | Boolean       |\n",
      "|  GCVWRatingCd                | Text          |\n",
      "|  VehiclePublicConveyanceInd  | Boolean       |\n",
      "|  EmergencyVehicleInvolvedInd | Text          |\n",
      "|  EmergencyVehicleOnRunInd    | Text          |\n",
      "|  NoVehicleDamageQualCntl     | Boolean       |\n",
      "|  InitialVehicleDamage        | Text          |\n",
      "|  InitialImpactNA             | Boolean       |\n",
      "|  InterstateCarrierInd        | Number        |\n",
      "|  HazardousMaterialPresent    | Text          |\n",
      "|  HazardousMaterialInvolved   | Boolean       |\n",
      "|  PlacardDisplayed            | Text          |\n",
      "|  HazmatClass                 | Number        |\n",
      "|  HazmatPlacardDiaNumber      | Text          |\n",
      "|  HazardousMaterialReleased   | Text          |\n",
      "|  DriverPresenceCd            | Text          |\n",
      "|  OwnerDriverInd              | Boolean       |\n",
      "|  OperatorLicenseState        | Text          |\n",
      "|  OperatorLicenseType         | Text          |\n",
      "|  DriverLicenseClass          | Text          |\n",
      "|  MotorcycleQualified         | Text          |\n",
      "|  OperatorLicenseStatus       | Text          |\n",
      "|  InsuredDriverVehicleInd     | Text          |\n",
      "|  InsuranceInd                | Text          |\n",
      "|  InsuranceExpired            | Text          |\n",
      "|  PreCrashTravelDirection     | Text          |\n",
      "|  TrafficCondition            | Text          |\n",
      "|  TrafficCntlMalfunctionInd   | Text          |\n",
      "|  WorkZoneInd                 | Text          |\n",
      "|  WorkerPresentInd            | Text          |\n",
      "|  TrafficCntlElectricalSignal | Text          |\n",
      "|  PedalcycleToFromSchoolInd   | Boolean       |\n",
      "|  TowedFromScene              | Boolean       |\n",
      "|  TowedBecauseDisabled        | Boolean       |\n",
      "|  InitialImpactInd            | Boolean       |\n",
      "|  AnimalCd1                   | Number        |\n",
      "|  AnimalCd2                   | Boolean       |\n",
      "|  AnimalCd3                   | Boolean       |\n",
      "|  AnimalCd4                   | Boolean       |\n",
      "|  VehicleActionCd1            | Text          |\n",
      "|  VehicleActionCd2            | Number        |\n",
      "|  VehicleActionCd3            | Number        |\n",
      "|  VehicleActionCd4            | Number        |\n",
      "|  VehicleActionCd5            | Number        |\n",
      "|  VehicleActionCd6            | Number        |\n",
      "|  VehicleActionCd7            | Number        |\n",
      "|  VehicleActionCd8            | Number        |\n",
      "|  VehicleActionCd9            | Number        |\n",
      "|  VehicleActionCd10           | Number        |\n",
      "|  VehicleActionCd11           | Number        |\n",
      "|  VehicleActionCd12           | Number        |\n",
      "|  VehicleActionCd13           | Number        |\n",
      "|  VehicleActionCd14           | Boolean       |\n",
      "|  VehicleActionCd15           | Boolean       |\n",
      "|  TrafficControlOtherCd1      | Number        |\n",
      "|  TrafficControlOtherCd2      | Number        |\n",
      "|  TrafficControlOtherCd3      | Boolean       |\n",
      "|  TrafficControlOtherCd4      | Boolean       |\n",
      "|  TrafficControlOtherCd5      | Boolean       |\n",
      "|  TrafficControlOtherCd6      | Boolean       |\n",
      "|  TrafficControlOtherCd7      | Boolean       |\n",
      "|  TrafficControlOtherCd8      | Boolean       |\n",
      "|  TrafficControlOtherCd9      | Boolean       |\n",
      "|  TrafficControlOtherCd10     | Boolean       |\n",
      "|  DamageCd1                   | Text          |\n",
      "|  DamageCd2                   | Number        |\n",
      "|  DamageCd3                   | Number        |\n",
      "|  DamageCd4                   | Text          |\n",
      "|  DamageCd5                   | Number        |\n",
      "|  DamageCd6                   | Number        |\n",
      "|  DamageCd7                   | Number        |\n",
      "|  DamageCd8                   | Number        |\n",
      "|  DamageCd9                   | Number        |\n",
      "|  DamageCd10                  | Number        |\n",
      "|  DamageCd11                  | Number        |\n",
      "|  DamageCd12                  | Number        |\n",
      "|  DamageCd13                  | Number        |\n",
      "|  DamageCd14                  | Number        |\n",
      "|  DamageCd15                  | Number        |\n",
      "|  DamageCd16                  | Number        |\n",
      "|  DamageCd17                  | Number        |\n",
      "|  DamageCd18                  | Number        |\n",
      "|  DamageCd19                  | Number        |\n",
      "|  DamageCd20                  | Number        |\n",
      "|  DamageCd21                  | Number        |\n",
      "|  DamageCd22                  | Number        |\n",
      "|  DamageCd23                  | Text          |\n",
      "|  DamageCd24                  | Number        |\n",
      "|  DamageCd25                  | Boolean       |\n",
      "|  FixedObjectCd1              | Number        |\n",
      "|  FixedObjectCd2              | Number        |\n",
      "|  FixedObjectCd3              | Number        |\n",
      "|  FixedObjectCd4              | Boolean       |\n",
      "|  FixedObjectCd5              | Boolean       |\n",
      "|  FixedObjectCd6              | Boolean       |\n",
      "|  FixedObjectCd7              | Boolean       |\n",
      "|  FixedObjectCd8              | Boolean       |\n",
      "|  VisionObstructedCd1         | Text          |\n",
      "|  VisionObstructedCd2         | Number        |\n",
      "|  VisionObstructedCd3         | Boolean       |\n",
      "|  VisionObstructedCd4         | Boolean       |\n",
      "|  VisionObstructedCd5         | Boolean       |\n",
      "|------------------------------+---------------|\n",
      "\n"
     ]
    }
   ],
   "source": [
    "print joined_all"
   ]
  },
  {
   "cell_type": "code",
   "execution_count": 10,
   "metadata": {
    "collapsed": false
   },
   "outputs": [
    {
     "name": "stdout",
     "output_type": "stream",
     "text": [
      "|--------------+-----------+------------------+-----------+---------------------+--------------+------|\n",
      "|      CrashId | AgencyOri | AgencyCaseNumber | CrashType |           CrashDate | CrashDateUnk | ...  |\n",
      "|--------------+-----------+------------------+-----------+---------------------+--------------+------|\n",
      "|  150,010,283 | MO0100000 |       20,151,811 |         3 | 2015-04-17 23:51:00 |              | ...  |\n",
      "|  150,014,584 | MO0100400 |  201,500,003,032 |         9 | 2015-01-26 21:20:00 |              | ...  |\n",
      "|  150,014,584 | MO0100400 |  201,500,003,032 |         9 | 2015-01-26 21:20:00 |              | ...  |\n",
      "|  150,014,584 | MO0100400 |  201,500,003,032 |         9 | 2015-01-26 21:20:00 |              | ...  |\n",
      "|  150,014,584 | MO0100400 |  201,500,003,032 |         9 | 2015-01-26 21:20:00 |              | ...  |\n",
      "|  150,014,584 | MO0100400 |  201,500,003,032 |         9 | 2015-01-26 21:20:00 |              | ...  |\n",
      "|  150,014,584 | MO0100400 |  201,500,003,032 |         9 | 2015-01-26 21:20:00 |              | ...  |\n",
      "|  150,016,788 | MO0100400 |  201,500,000,106 |         7 | 2015-01-02 17:25:00 |              | ...  |\n",
      "|  150,016,788 | MO0100400 |  201,500,000,106 |         7 | 2015-01-02 17:25:00 |              | ...  |\n",
      "|  150,016,788 | MO0100400 |  201,500,000,106 |         7 | 2015-01-02 17:25:00 |              | ...  |\n",
      "|  150,016,788 | MO0100400 |  201,500,000,106 |         7 | 2015-01-02 17:25:00 |              | ...  |\n",
      "|  150,016,788 | MO0100400 |  201,500,000,106 |         7 | 2015-01-02 17:25:00 |              | ...  |\n",
      "|  150,016,788 | MO0100400 |  201,500,000,106 |         7 | 2015-01-02 17:25:00 |              | ...  |\n",
      "|  150,020,791 | MO0100400 |       20,155,192 |         7 | 2015-02-12 07:30:00 |              | ...  |\n",
      "|  150,020,791 | MO0100400 |       20,155,192 |         7 | 2015-02-12 07:30:00 |              | ...  |\n",
      "|  150,020,791 | MO0100400 |       20,155,192 |         7 | 2015-02-12 07:30:00 |              | ...  |\n",
      "|  150,020,791 | MO0100400 |       20,155,192 |         7 | 2015-02-12 07:30:00 |              | ...  |\n",
      "|  150,021,080 | MO0100000 |       20,150,604 |         7 | 2015-02-06 18:15:00 |              | ...  |\n",
      "|  150,021,080 | MO0100000 |       20,150,604 |         7 | 2015-02-06 18:15:00 |              | ...  |\n",
      "|  150,021,080 | MO0100000 |       20,150,604 |         7 | 2015-02-06 18:15:00 |              | ...  |\n",
      "|          ... | ...       |              ... |       ... |                 ... | ...          | ...  |\n",
      "|--------------+-----------+------------------+-----------+---------------------+--------------+------|\n"
     ]
    },
    {
     "ename": "AttributeError",
     "evalue": "'NoneType' object has no attribute 'limit'",
     "output_type": "error",
     "traceback": [
      "\u001b[0;31m---------------------------------------------------------------------------\u001b[0m",
      "\u001b[0;31mAttributeError\u001b[0m                            Traceback (most recent call last)",
      "\u001b[0;32m<ipython-input-10-6721054da90f>\u001b[0m in \u001b[0;36m<module>\u001b[0;34m()\u001b[0m\n\u001b[0;32m----> 1\u001b[0;31m \u001b[0mjoined_all\u001b[0m\u001b[0;34m.\u001b[0m\u001b[0mprint_table\u001b[0m\u001b[0;34m(\u001b[0m\u001b[0;34m)\u001b[0m\u001b[0;34m.\u001b[0m\u001b[0mlimit\u001b[0m\u001b[0;34m(\u001b[0m\u001b[0;36m10\u001b[0m\u001b[0;34m)\u001b[0m\u001b[0;34m\u001b[0m\u001b[0m\n\u001b[0m",
      "\u001b[0;31mAttributeError\u001b[0m: 'NoneType' object has no attribute 'limit'"
     ]
    }
   ],
   "source": [
    "joined_all.print_table().limit(10)"
   ]
  },
  {
   "cell_type": "code",
   "execution_count": 11,
   "metadata": {
    "collapsed": true
   },
   "outputs": [],
   "source": [
    "joined_all_10Lines=joined_all.limit(10)"
   ]
  },
  {
   "cell_type": "code",
   "execution_count": 12,
   "metadata": {
    "collapsed": false
   },
   "outputs": [
    {
     "name": "stdout",
     "output_type": "stream",
     "text": [
      "|--------------+-----------+------------------+-----------+---------------------+--------------+------|\n",
      "|      CrashId | AgencyOri | AgencyCaseNumber | CrashType |           CrashDate | CrashDateUnk | ...  |\n",
      "|--------------+-----------+------------------+-----------+---------------------+--------------+------|\n",
      "|  150,010,283 | MO0100000 |       20,151,811 |         3 | 2015-04-17 23:51:00 |              | ...  |\n",
      "|  150,014,584 | MO0100400 |  201,500,003,032 |         9 | 2015-01-26 21:20:00 |              | ...  |\n",
      "|  150,014,584 | MO0100400 |  201,500,003,032 |         9 | 2015-01-26 21:20:00 |              | ...  |\n",
      "|  150,014,584 | MO0100400 |  201,500,003,032 |         9 | 2015-01-26 21:20:00 |              | ...  |\n",
      "|  150,014,584 | MO0100400 |  201,500,003,032 |         9 | 2015-01-26 21:20:00 |              | ...  |\n",
      "|  150,014,584 | MO0100400 |  201,500,003,032 |         9 | 2015-01-26 21:20:00 |              | ...  |\n",
      "|  150,014,584 | MO0100400 |  201,500,003,032 |         9 | 2015-01-26 21:20:00 |              | ...  |\n",
      "|  150,016,788 | MO0100400 |  201,500,000,106 |         7 | 2015-01-02 17:25:00 |              | ...  |\n",
      "|  150,016,788 | MO0100400 |  201,500,000,106 |         7 | 2015-01-02 17:25:00 |              | ...  |\n",
      "|  150,016,788 | MO0100400 |  201,500,000,106 |         7 | 2015-01-02 17:25:00 |              | ...  |\n",
      "|--------------+-----------+------------------+-----------+---------------------+--------------+------|\n"
     ]
    }
   ],
   "source": [
    "joined_all_10Lines.print_table()"
   ]
  },
  {
   "cell_type": "code",
   "execution_count": 13,
   "metadata": {
    "collapsed": false
   },
   "outputs": [],
   "source": [
    "Distinct_CrashId = joined_all.distinct('CrashId')"
   ]
  },
  {
   "cell_type": "code",
   "execution_count": null,
   "metadata": {
    "collapsed": true
   },
   "outputs": [],
   "source": [
    "num_crashid=Distinct_CrashId.aggregate(agate.Count('CrashId'))"
   ]
  },
  {
   "cell_type": "code",
   "execution_count": null,
   "metadata": {
    "collapsed": false
   },
   "outputs": [],
   "source": [
    "print num_crashid"
   ]
  },
  {
   "cell_type": "code",
   "execution_count": null,
   "metadata": {
    "collapsed": true
   },
   "outputs": [],
   "source": [
    "## number of crashes was 1380 in 2015 in Columbia"
   ]
  },
  {
   "cell_type": "code",
   "execution_count": null,
   "metadata": {
    "collapsed": false
   },
   "outputs": [],
   "source": [
    "## get fatal crashes from joined_all\n",
    "fatal=joined_all.where(lambda row: row['PersonalInjuryLevel'] ==\"1\")"
   ]
  },
  {
   "cell_type": "code",
   "execution_count": null,
   "metadata": {
    "collapsed": true
   },
   "outputs": [],
   "source": [
    "## get number of fatal crashes\n",
    "num_crashid=fatal.aggregate(agate.Count('CrashId'))"
   ]
  },
  {
   "cell_type": "code",
   "execution_count": null,
   "metadata": {
    "collapsed": false
   },
   "outputs": [],
   "source": [
    "print num_crashid"
   ]
  },
  {
   "cell_type": "code",
   "execution_count": null,
   "metadata": {
    "collapsed": true
   },
   "outputs": [],
   "source": [
    "##There were 11 fatal crashes in 2015. (Correction will come later)"
   ]
  },
  {
   "cell_type": "code",
   "execution_count": null,
   "metadata": {
    "collapsed": true
   },
   "outputs": [],
   "source": [
    "## get number of fatalities\n",
    "distinct_fatalities = fatal.distinct('PersonId')"
   ]
  },
  {
   "cell_type": "code",
   "execution_count": null,
   "metadata": {
    "collapsed": false
   },
   "outputs": [],
   "source": [
    "Num_fatalities=distinct_fatalities.aggregate(agate.Count('PersonId'))\n",
    "print Num_fatalities"
   ]
  },
  {
   "cell_type": "code",
   "execution_count": null,
   "metadata": {
    "collapsed": true
   },
   "outputs": [],
   "source": [
    "## There were 8 fatalities in 2015."
   ]
  },
  {
   "cell_type": "code",
   "execution_count": null,
   "metadata": {
    "collapsed": false
   },
   "outputs": [],
   "source": [
    "## get number of fatal crashes adding distinct\n",
    "fatal_distinct_crashid=fatal.distinct('CrashId')\n",
    "num_fatal_crash=fatal_distinct_crashid.aggregate(agate.Count('CrashId'))\n",
    "print num_fatal_crash"
   ]
  },
  {
   "cell_type": "code",
   "execution_count": null,
   "metadata": {
    "collapsed": true
   },
   "outputs": [],
   "source": [
    "## Okay the number of fatal crashes was actually 6, the 11 included duplicates"
   ]
  },
  {
   "cell_type": "code",
   "execution_count": null,
   "metadata": {
    "collapsed": true
   },
   "outputs": [],
   "source": [
    "## group by CrashType in distinct fatal crashids\n",
    "by_crashtype = fatal_distinct_crashid.group_by('CrashType')\n"
   ]
  },
  {
   "cell_type": "code",
   "execution_count": null,
   "metadata": {
    "collapsed": false
   },
   "outputs": [],
   "source": [
    "crashtype_totals = by_crashtype.aggregate([\n",
    "    ('count', agate.Count())\n",
    "])\n",
    "\n",
    "sorted_crashtype_totals = crashtype_totals.order_by('count', reverse=True)\n",
    "\n",
    "sorted_crashtype_totals.print_table()"
   ]
  },
  {
   "cell_type": "code",
   "execution_count": null,
   "metadata": {
    "collapsed": true
   },
   "outputs": [],
   "source": [
    "## In the 6 fatal crashes, 3 cases involved fixed objects, 2 motor vehicle, 1 pedestrian."
   ]
  },
  {
   "cell_type": "code",
   "execution_count": null,
   "metadata": {
    "collapsed": false
   },
   "outputs": [],
   "source": [
    "## Let's look at the CrashType of all crashes (of all severities)\n",
    "by_crashtype = Distinct_CrashId.group_by('CrashType')\n",
    "crashtype_totals = by_crashtype.aggregate([\n",
    "    ('count', agate.Count())\n",
    "])\n",
    "\n",
    "sorted_crashtype_totals = crashtype_totals.order_by('count', reverse=True)\n",
    "\n",
    "sorted_crashtype_totals.print_table()"
   ]
  },
  {
   "cell_type": "code",
   "execution_count": null,
   "metadata": {
    "collapsed": true
   },
   "outputs": [],
   "source": [
    "## In all crashes with any kind of severity, 1023 cases involved collision between motor vehicles, 216 fixed objects,  53 parked vehicle"
   ]
  },
  {
   "cell_type": "code",
   "execution_count": null,
   "metadata": {
    "collapsed": false
   },
   "outputs": [],
   "source": [
    "## look at what kind of fixed objects they ran into\n",
    "## first see if in any case cars hit two objects\n",
    "with_objectcd2 = joined_all.where(lambda row: row['FixedObjectCd2'] is not None)\n",
    "with_objectcd2.print_table()"
   ]
  },
  {
   "cell_type": "code",
   "execution_count": null,
   "metadata": {
    "collapsed": false
   },
   "outputs": [],
   "source": [
    "crashid150037763 = joined_all.where(lambda row: row['CrashId'] == 150037763)\n",
    "crashid150037763.print_table()"
   ]
  },
  {
   "cell_type": "code",
   "execution_count": null,
   "metadata": {
    "collapsed": false
   },
   "outputs": [],
   "source": [
    "column =crashid150037763.columns['FixedObjectCd2']\n",
    "print column[0]"
   ]
  },
  {
   "cell_type": "code",
   "execution_count": null,
   "metadata": {
    "collapsed": false
   },
   "outputs": [],
   "source": [
    "## create a new table with only two columns: CrashId, Object\n",
    "objectcd1 = joined_all.select(('CrashId', 'FixedObjectCd1'))\n",
    "objectcd2 = joined_all.select(('CrashId', 'FixedObjectCd2'))\n",
    "objectcd3 = joined_all.select(('CrashId', 'FixedObjectCd3'))\n",
    "objectcd4 = joined_all.select(('CrashId', 'FixedObjectCd4'))\n",
    "objectcd5 = joined_all.select(('CrashId', 'FixedObjectCd5'))\n",
    "objectcd6 = joined_all.select(('CrashId', 'FixedObjectCd6'))\n",
    "objectcd7 = joined_all.select(('CrashId', 'FixedObjectCd7'))\n",
    "objectcd8 = joined_all.select(('CrashId', 'FixedObjectCd8'))\n",
    "objectcd = agate.TableSet([objectcd1,\n",
    "        objectcd2,objectcd2,objectcd2,objectcd2,objectcd2,objectcd2,objectcd2]\n",
    "    ['cd1', 'cd2', 'cd3','cd4','cd5','cd6','cd7','cd8'],\n",
    "    key_name='cd_num'\n",
    ")\n",
    "\n",
    "objects = crashes.merge()\n"
   ]
  },
  {
   "cell_type": "code",
   "execution_count": null,
   "metadata": {
    "collapsed": true
   },
   "outputs": [],
   "source": []
  }
 ],
 "metadata": {
  "kernelspec": {
   "display_name": "Python 2",
   "language": "python",
   "name": "python2"
  },
  "language_info": {
   "codemirror_mode": {
    "name": "ipython",
    "version": 2
   },
   "file_extension": ".py",
   "mimetype": "text/x-python",
   "name": "python",
   "nbconvert_exporter": "python",
   "pygments_lexer": "ipython2",
   "version": "2.7.11"
  }
 },
 "nbformat": 4,
 "nbformat_minor": 0
}
